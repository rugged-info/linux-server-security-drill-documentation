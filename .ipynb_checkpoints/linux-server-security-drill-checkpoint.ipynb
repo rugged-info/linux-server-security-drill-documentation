{
 "cells": [
  {
   "cell_type": "markdown",
   "metadata": {},
   "source": [
    "## Documentation"
   ]
  },
  {
   "cell_type": "markdown",
   "metadata": {},
   "source": [
    "```\n",
    "# Create users for team\n",
    "\n",
    "sudo useradd Bart\n",
    "sudo useradd Kaleo\n",
    "sudo groupadd dbs\n",
    "sudo groupadd webmasters\n",
    "sudo useradd Bart dbs\n",
    "sudo useradd Kaleo dbs\n",
    "sudo useradd Kaleo webmasters\n",
    "\n",
    "# Installing security updates\n",
    "\n",
    "sudo apt-get upgrade \n",
    "\n",
    "# Install ssh\n",
    "\n",
    "sudo apt-get install openssh-server\n",
    "\n",
    "# Configure ssh access\n",
    "\n",
    "sudo nano /etc/ssh/sshd.config\n",
    "\n",
    "# Ensure passwords can't be used for remote login\n",
    "\n",
    "Change PasswordAuthentication no\n",
    "\n",
    "# Disable root login for ssh \n",
    "\n",
    "PermitRootLogin no\n",
    "\n",
    "# Verify /etc/ssh/sshd.config says protocol 2\n",
    "\n",
    "# Configure mysql\n",
    "\n",
    "sudo apt-get install mysql-server\n",
    "\n",
    "# Only users of dbs can interact with mysql\n",
    "\n",
    "sudo visudo\n",
    "\n",
    "# adjust /etc/sudoers file to allow dbs group to interact with mysql binary\n",
    "\n",
    "#Cmnd alias specification \n",
    "Cmnd_Alias    POWER=/usr/bin/mysql\n",
    "\n",
    "# Members of the dbs group may access my sql\n",
    "%dbs ALL=POWER \n",
    "\n",
    "\n",
    "\n"
   ]
  },
  {
   "cell_type": "code",
   "execution_count": null,
   "metadata": {
    "collapsed": true
   },
   "outputs": [],
   "source": []
  }
 ],
 "metadata": {
  "kernelspec": {
   "display_name": "Python 3",
   "language": "python",
   "name": "python3"
  },
  "language_info": {
   "codemirror_mode": {
    "name": "ipython",
    "version": 3
   },
   "file_extension": ".py",
   "mimetype": "text/x-python",
   "name": "python",
   "nbconvert_exporter": "python",
   "pygments_lexer": "ipython3",
   "version": "3.6.3"
  }
 },
 "nbformat": 4,
 "nbformat_minor": 2
}
