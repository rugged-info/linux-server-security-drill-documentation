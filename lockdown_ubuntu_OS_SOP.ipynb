{
 "cells": [
  {
   "cell_type": "markdown",
   "metadata": {},
   "source": [
    "## <center> Lockdown an Ubuntu OS <center>\n",
    "\n",
    "### Ensure OS and applications are up-to date"
   ]
  },
  {
   "cell_type": "code",
   "execution_count": null,
   "metadata": {
    "collapsed": true
   },
   "outputs": [],
   "source": [
    "sudo apt-get update\n",
    "sudp apt-get upgrade"
   ]
  },
  {
   "cell_type": "markdown",
   "metadata": {},
   "source": [
    "### Disable root access"
   ]
  },
  {
   "cell_type": "code",
   "execution_count": null,
   "metadata": {
    "collapsed": true
   },
   "outputs": [],
   "source": [
    "# First, change the password.\n",
    "sudo passwd\n",
    "# Then lock the account so no one can log in as root.\n",
    "sudo passwd -l root"
   ]
  },
  {
   "cell_type": "markdown",
   "metadata": {},
   "source": [
    "### Enable firewall"
   ]
  },
  {
   "cell_type": "code",
   "execution_count": null,
   "metadata": {
    "collapsed": true
   },
   "outputs": [],
   "source": [
    "sudo ufw status\n",
    "sudo ufw enable"
   ]
  },
  {
   "cell_type": "markdown",
   "metadata": {},
   "source": [
    "### Turn of guest account"
   ]
  },
  {
   "cell_type": "code",
   "execution_count": null,
   "metadata": {
    "collapsed": true
   },
   "outputs": [],
   "source": [
    "# Open lightdm.conf with editor \n",
    "sudo -H gedit /etc/lightdm/lightdm.conf\n",
    "# If file exists, then add the following and save:\n",
    "allow-guest=false\n",
    "# alternatively, add:\n",
    "[SeatDefaults]\n",
    "user-session=ubuntu\n",
    "greeter-session=unity-greeter\n",
    "allow-guest=false\n",
    "# and save as /etc/lightdm/lightdm.conf"
   ]
  },
  {
   "cell_type": "markdown",
   "metadata": {},
   "source": [
    "### Secure SSH configuration settings"
   ]
  },
  {
   "cell_type": "code",
   "execution_count": null,
   "metadata": {
    "collapsed": true
   },
   "outputs": [],
   "source": [
    "# Use editor, such as nano or gedit to open sshd_config\n",
    "nano /etc/ssh/sshd_config\n",
    "# change settings for PasswordAuthentication and PermitRootLogin\n",
    "PasswordAuthentication no\n",
    "PermitRootLogin no\n",
    "# restart SSH\n",
    "/etc/init.d/ssh restart"
   ]
  },
  {
   "cell_type": "markdown",
   "metadata": {},
   "source": [
    "### Implement a password security policy"
   ]
  },
  {
   "cell_type": "code",
   "execution_count": null,
   "metadata": {
    "collapsed": true
   },
   "outputs": [],
   "source": [
    "# A password security policy should have at least  components:\n",
    "# A minimum password length\n",
    "gedit /etc/pam.d/common-password\n",
    "# Add minlen=12 to the end of the line that has pam_unix.so in it. \n",
    "# Set the maximum password lifespan, minimum password age and when to warn the user of password expiration\n",
    "gedit etc/login.defs\n",
    "# Add password requirements to the login.defs file\n",
    "PASS_MIN_DAYS 7\n",
    "PASS_MAX_DAYS 90\n",
    "PASS_WARN_AGE 14\n",
    "# Set the number of password attempts allowed before the user account is locked\n",
    "gedit /etc/pam.d/system-auth\n",
    "# Add the settings to the end of the line with pam_tally2.so\n",
    "deny=5 unlock_time=1800"
   ]
  },
  {
   "cell_type": "markdown",
   "metadata": {},
   "source": [
    "### Disable IPv6\n",
    "\n",
    "Note: The directions below are for Ubunut 14.04. Verify the same procedure will work for your OS. [(Click here for source link)](https://askubuntu.com/questions/440649/how-to-disable-ipv6-in-ubuntu-14-04) "
   ]
  },
  {
   "cell_type": "code",
   "execution_count": null,
   "metadata": {
    "collapsed": true
   },
   "outputs": [],
   "source": [
    "# Make sure the file sysct1.conf is activated\n",
    "sudo sysctl -p\n",
    "# Open sysct1.conf \n",
    "gedit /etc/sysctl.conf\n",
    "# Add these lines to the end of sysctl.conf\n",
    "net.ipv6.conf.all.disable_ipv6 = 1\n",
    "net.ipv6.conf.default.disable_ipv6 = 1\n",
    "net.ipv6.conf.lo.disable_ipv6 = 1\n",
    "# Verify Stdout of the command below should be 1, if IPv6 is disabled.  \n",
    "cat /proc/sys/net/ipv6/conf/all/disable_ipv6"
   ]
  },
  {
   "cell_type": "markdown",
   "metadata": {},
   "source": [
    "### Update openssl"
   ]
  },
  {
   "cell_type": "code",
   "execution_count": null,
   "metadata": {
    "collapsed": true
   },
   "outputs": [],
   "source": [
    "sudo apt-get install openssl\n",
    "sudo apt-get update openssl\n",
    "sudo apt-get upgrade openssl"
   ]
  },
  {
   "cell_type": "markdown",
   "metadata": {},
   "source": [
    "### Make sure bluetooth is off"
   ]
  },
  {
   "cell_type": "code",
   "execution_count": null,
   "metadata": {
    "collapsed": true
   },
   "outputs": [],
   "source": [
    "/etc/init.d/hidd stop\n",
    "chkconfig hidd off"
   ]
  },
  {
   "cell_type": "markdown",
   "metadata": {},
   "source": [
    "### Check for scheduled cron jobs/scheduled tasks"
   ]
  },
  {
   "cell_type": "code",
   "execution_count": null,
   "metadata": {
    "collapsed": true
   },
   "outputs": [],
   "source": [
    "crontab -l\n",
    "ls -alh /var/spool/cron\n",
    "ls -al /etc/ | grep cron\n",
    "ls -al /etc/cron*\n",
    "cat /etc/cron*\n",
    "cat /etc/at.allow\n",
    "cat /etc/at.deny\n",
    "cat /etc/cron.allow\n",
    "cat /etc/cron.deny\n",
    "cat /etc/crontab\n",
    "cat /etc/anacrontab\n",
    "cat /var/spool/cron/crontabs/root`"
   ]
  }
 ],
 "metadata": {
  "kernelspec": {
   "display_name": "Python 3",
   "language": "python",
   "name": "python3"
  },
  "language_info": {
   "codemirror_mode": {
    "name": "ipython",
    "version": 3
   },
   "file_extension": ".py",
   "mimetype": "text/x-python",
   "name": "python",
   "nbconvert_exporter": "python",
   "pygments_lexer": "ipython3",
   "version": "3.6.3"
  }
 },
 "nbformat": 4,
 "nbformat_minor": 2
}
